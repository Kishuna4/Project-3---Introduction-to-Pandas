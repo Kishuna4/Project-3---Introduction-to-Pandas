metadata": {
    "colab": {},
    "colab_type": "code",
    "id": "1Wj8jpxWKdlT"
   },
   "outputs": [
    {
     "data": {
      "text/plain": [
       "0        3\n",
       "1        c\n",
       "2    Numpy\n",
       "dtype: object"
      ]
     },
     "execution_count": 7,
     "metadata": {},
     "output_type": "execute_result"
    }
   ],
   "source": [
    "list2 = [3, 'c', 'Numpy']\n",
    "s4 = pd.Series(list2)\n",
    "s4"
   ]
  },
  {
   "cell_type": "markdown",
   "metadata": {
    "colab_type": "text",
    "id": "fcErTl3qKdlW"
   },
   "source": [
    "### <center> Method 3: Using a Dictionary"
   ]
  },
  {
   "cell_type": "code",
   "execution_count": 9,
   "metadata": {
    "colab": {},
    "colab_type": "code",
    "id": "ThVGkJpdKdlX"
   },
   "outputs": [
    {
     "data": {
      "text/plain": [
       "A         1\n",
       "3    Python\n",
       "dtype: object"
      ]
     },
     "execution_count": 9,
     "metadata": {},
     "output_type": "execute_result"
    }
   ],
   "source": [
    "s5 = pd.Series(\n",
    "{'A': 1, \n",
    "\"3\": \"Python\"}\n",
    ")\n",
    "s5"
   ]
  },
  {
   "cell_type": "markdown",
   "metadata": {
    "colab_type": "text",
    "id": "VJJSuF2UKdla"
   },
   "source": [
    "## <center>🏆 Challenge"
   ]
  },
  {
   "cell_type": "markdown",
   "metadata": {
    "colab_type": "text",
    "id": "qwY80G7xKdlb"
   },
   "source": [
    "Create a Pandas Series, named s6, containing the following:\n",
    "\n",
    "* 'Integer' = 3\n",
    "* 'B' = Boys\n"
   ]
  },
  {
   "cell_type": "code",
   "execution_count": 12,
   "metadata": {
    "colab": {},
    "colab_type": "code",
    "id": "6N4D3ni_Kdlb"
   },
   "outputs": [
    {
     "data": {
      "text/plain": [
       "Integer       3\n",
       "B          Boys\n",
       "dtype: object"
      ]
     },
     "execution_count": 12,
     "metadata": {},
     "output_type": "execute_result"
    }
   ],
   "source": [
    "s6 = pd.Series(({'Integer': 3, \"B\": \"Boys\"}))\n",
    "s6"
   ]
  },
  {
   "cell_type": "markdown",
   "metadata": {
    "colab_type": "text",
    "id": "UvjvQy9nKdle"
   },
   "source": [
    "# <center> Creating Data Frames"
   ]
  },
  {
   "cell_type": "markdown",
   "metadata": {
    "colab_type": "text",
    "id": "OirhnVKZKdlf"
   },
   "source": [
    "<img src=\"https://github.com/VinitaSilaparasetty/Coursera-Pandas-for-Beginners/blob/master/Media/dataframe.gif?raw=true\" width=\"600\" height=\"600\">"
   ]
  },
  {
   "cell_type": "markdown",
   "metadata": {
    "colab_type": "text",
    "id": "OYecM5C4Kdlh"
   },
   "source": [
    "### <center> Method 1: Passing a Numpy Array"
   ]
  },
  {
   "cell_type": "code",
   "execution_count": 13,
   "metadata": {
    "colab": {},
    "colab_type": "code",
    "id": "siDIHrk5Kdlh"
   },
   "outputs": [
    {
     "data": {
      "text/html": [
       "<div>\n",
       "<style scoped>\n",
       "    .dataframe tbody tr th:only-of-type {\n",
       "        vertical-align: middle;\n",
       "    }\n",
       "\n",
       "    .dataframe tbody tr th {\n",
       "        vertical-align: top;\n",
       "    }\n",
       "\n",
       "    .dataframe thead th {\n",
       "        text-align: right;\n",
       "    }\n",
       "</style>\n",
       "<table border=\"1\" class=\"dataframe\">\n",
       "  <thead>\n",
       "    <tr style=\"text-align: right;\">\n",
       "      <th></th>\n",
       "      <th>0</th>\n",
       "      <th>1</th>\n",
       "      <th>2</th>\n",
       "      <th>3</th>\n",
       "    </tr>\n",
       "  </thead>\n",
       "  <tbody>\n",
       "    <tr>\n",
       "      <th>0</th>\n",
       "      <td>0.516097</td>\n",
       "      <td>0.724866</td>\n",
       "      <td>-0.591452</td>\n",
       "      <td>1.000985</td>\n",
       "    </tr>\n",
       "    <tr>\n",
       "      <th>1</th>\n",
       "      <td>1.256689</td>\n",
       "      <td>0.558673</td>\n",
       "      <td>0.680892</td>\n",
       "      <td>0.489033</td>\n",
       "    </tr>\n",
       "    <tr>\n",
       "      <th>2</th>\n",
       "      <td>-0.245403</td>\n",
       "      <td>1.263396</td>\n",
       "      <td>-1.153345</td>\n",
       "      <td>-0.666742</td>\n",
       "    </tr>\n",
       "    <tr>\n",
       "      <th>3</th>\n",
       "      <td>-0.521322</td>\n",
       "      <td>-0.308512</td>\n",
       "      <td>-0.718359</td>\n",
       "      <td>1.043643</td>\n",
       "    </tr>\n",
       "    <tr>\n",
       "      <th>4</th>\n",
       "      <td>0.845368</td>\n",
       "      <td>1.256882</td>\n",
       "      <td>0.437745</td>\n",
       "      <td>-0.426466</td>\n",
       "    </tr>\n",
       "    <tr>\n",
       "      <th>5</th>\n",
       "      <td>0.307759</td>\n",
       "      <td>1.002374</td>\n",
       "      <td>-1.075316</td>\n",
       "      <td>0.770272</td>\n",
       "    </tr>\n",
       "  </tbody>\n",
       "</table>\n",
       "</div>"
      ],
      "text/plain": [
       "          0         1         2         3\n",
       "0  0.516097  0.724866 -0.591452  1.000985\n",
       "1  1.256689  0.558673  0.680892  0.489033\n",
       "2 -0.245403  1.263396 -1.153345 -0.666742\n",
       "3 -0.521322 -0.308512 -0.718359  1.043643\n",
       "4  0.845368  1.256882  0.437745 -0.426466\n",
       "5  0.307759  1.002374 -1.075316  0.770272"
      ]
     },
     "execution_count": 13,
     "metadata": {},
     "output_type": "execute_result"
    }
   ],
   "source": [
    "df = pd.DataFrame(np.random.randn(6, 4))\n",
    "df"
   ]
  },
  {
   "cell_type": "markdown",
   "metadata": {
    "colab_type": "text",
    "id": "IMz9JGVqKdlk"
   },
   "source": [
    "## <center>🏆 Challenge"
   ]
  },
  {
   "cell_type": "markdown",
   "metadata": {
    "colab_type": "text",
    "id": "SpsBwi3eKdll"
   },
   "source": [
    "Create a data frame, named df1, which contains:\n",
    "\n",
    "* A randomly generated array with the dimensions 3x3.\n"
   ]
  },
  {
   "cell_type": "code",
   "execution_count": 14,
   "metadata": {
    "colab": {},
    "colab_type": "code",
    "id": "gla4tyT7Kdlm"
   },
   "outputs": [
    {
     "data": {
      "text/html": [
       "<div>\n",
       "<style scoped>\n",
       "    .dataframe tbody tr th:only-of-type {\n",
       "        vertical-align: middle;\n",
       "    }\n",
       "\n",
       "    .dataframe tbody tr th {\n",
       "        vertical-align: top;\n",
       "    }\n",
       "\n",
       "    .dataframe thead th {\n",
       "        text-align: right;\n",
       "    }\n",
       "</style>\n",
       "<table border=\"1\" class=\"dataframe\">\n",
       "  <thead>\n",
       "    <tr style=\"text-align: right;\">\n",
       "      <th></th>\n",
       "      <th>0</th>\n",
       "      <th>1</th>\n",
       "      <th>2</th>\n",
       "    </tr>\n",
       "  </thead>\n",
       "  <tbody>\n",
       "    <tr>\n",
       "      <th>0</th>\n",
       "      <td>-0.302013</td>\n",
       "      <td>-1.951330</td>\n",
       "      <td>0.529338</td>\n",
       "    </tr>\n",
       "    <tr>\n",
       "      <th>1</th>\n",
       "      <td>-0.717590</td>\n",
       "      <td>1.021788</td>\n",
       "      <td>0.286029</td>\n",
       "    </tr>\n",
       "    <tr>\n",
       "      <th>2</th>\n",
       "      <td>-0.694847</td>\n",
       "      <td>1.375356</td>\n",
       "      <td>2.461792</td>\n",
       "    </tr>\n",
       "  </tbody>\n",
       "</table>\n",
       "</div>"
      ],
      "text/plain": [
       "          0         1         2\n",
       "0 -0.302013 -1.951330  0.529338\n",
       "1 -0.717590  1.021788  0.286029\n",
       "2 -0.694847  1.375356  2.461792"
      ]
     },
     "execution_count": 14,
     "metadata": {},
     "output_type": "execute_result"
    }
   ],
   "source": [
    "df1 = pd.DataFrame(np.random.randn(3, 3))\n",
    "df1"
   ]
  },
  {
   "cell_type": "markdown",
   "metadata": {
    "colab_type": "text",
    "id": "I1KbMG7rKdlq"
   },
   "source": [
    "### <center> Method 2: Passing a Dictionary of Objects"
   ]
  },
  {
   "cell_type": "code",
   "execution_count": 15,
   "metadata": {
    "colab": {},
    "colab_type": "code",
    "id": "dye9T8WMKdlq"
   },
   "outputs": [
    {
     "data": {
      "text/html": [
       "<div>\n",
       "<style scoped>\n",
       "    .dataframe tbody tr th:only-of-type {\n",
       "        vertical-align: middle;\n",
       "    }\n",
       "\n",
       "    .dataframe tbody tr th {\n",
       "        vertical-align: top;\n",
       "    }\n",
       "\n",
       "    .dataframe thead th {\n",
       "        text-align: right;\n",
       "    }\n",
       "</style>\n",
       "<table border=\"1\" class=\"dataframe\">\n",
       "  <thead>\n",
       "    <tr style=\"text-align: right;\">\n",
       "      <th></th>\n",
       "      <th>A</th>\n",
       "      <th>number</th>\n",
       "    </tr>\n",
       "  </thead>\n",
       "  <tbody>\n",
       "    <tr>\n",
       "      <th>0</th>\n",
       "      <td>1</td>\n",
       "      <td>6</td>\n",
       "    </tr>\n",
       "    <tr>\n",
       "      <th>1</th>\n",
       "      <td>1</td>\n",
       "      <td>6</td>\n",
       "    </tr>\n",
       "    <tr>\n",
       "      <th>2</th>\n",
       "      <td>1</td>\n",
       "      <td>6</td>\n",
       "    </tr>\n",
       "  </tbody>\n",
       "</table>\n",
       "</div>"
      ],
      "text/plain": [
       "   A  number\n",
       "0  1       6\n",
       "1  1       6\n",
       "2  1       6"
      ]
     },
     "execution_count": 15,
     "metadata": {},
     "output_type": "execute_result"
    }
   ],
   "source": [
    "df2 = pd.DataFrame({\n",
    "    'A':1,\n",
    "    'number':np.array([6]*3, dtype='int32'), \n",
    "})\n",
    "df2"
   ]
  },
  {
   "cell_type": "markdown",
   "metadata": {
    "colab_type": "text",
    "id": "o8Q8XGUZKdlt"
   },
   "source": [
    "## <center>🏆 Challenge"
   ]
  },
  {
   "cell_type": "markdown",
   "metadata": {
    "colab_type": "text",
    "id": "rKldfWrdKdlu"
   },
   "source": [
    "Create a data frame, named df3, which contains:\n",
    "\n",
    "* 'E' = np.array([4] * 5,dtype='int32')\n",
    "\n",
    "* 'Day' = 2"
   ]
  },
  {
   "cell_type": "code",
   "execution_count": 16,
   "metadata": {
    "colab": {},
    "colab_type": "code",
    "id": "6Itupb7_Kdlu"
   },
   "outputs": [
    {
     "data": {
      "text/html": [
       "<div>\n",
       "<style scoped>\n",
       "    .dataframe tbody tr th:only-of-type {\n",
       "        vertical-align: middle;\n",
       "    }\n",
       "\n",
       "    .dataframe tbody tr th {\n",
       "        vertical-align: top;\n",
       "    }\n",
       "\n",
       "    .dataframe thead th {\n",
       "        text-align: right;\n",
       "    }\n",
       "</style>\n",
       "<table border=\"1\" class=\"dataframe\">\n",
       "  <thead>\n",
       "    <tr style=\"text-align: right;\">\n",
       "      <th></th>\n",
       "      <th>E</th>\n",
       "      <th>Day</th>\n",
       "    </tr>\n",
       "  </thead>\n",
       "  <tbody>\n",
       "    <tr>\n",
       "      <th>0</th>\n",
       "      <td>4</td>\n",
       "      <td>2</td>\n",
       "    </tr>\n",
       "    <tr>\n",
       "      <th>1</th>\n",
       "      <td>4</td>\n",
       "      <td>2</td>\n",
       "    </tr>\n",
       "    <tr>\n",
       "      <th>2</th>\n",
       "      <td>4</td>\n",
       "      <td>2</td>\n",
       "    </tr>\n",
       "    <tr>\n",
       "      <th>3</th>\n",
       "      <td>4</td>\n",
       "      <td>2</td>\n",
       "    </tr>\n",
       "    <tr>\n",
       "      <th>4</th>\n",
       "      <td>4</td>\n",
       "      <td>2</td>\n",
       "    </tr>\n",
       "  </tbody>\n",
       "</table>\n",
       "</div>"
      ],
      "text/plain": [
       "   E  Day\n",
       "0  4    2\n",
       "1  4    2\n",
       "2  4    2\n",
       "3  4    2\n",
       "4  4    2"
      ]
     },
     "execution_count": 16,
     "metadata": {},
     "output_type": "execute_result"
    }
   ],
   "source": [
    "df3 = pd.DataFrame({\n",
    "    \"E\": np.array([4]*5, dtype='int32'), 'Day': 2\n",
    "})\n",
    "df3"
   ]
  },
  {
   "cell_type": "markdown",
   "metadata": {
    "colab_type": "text",
    "id": "3R3OkHq4Kdlx"
   },
   "source": [
    "--------"
   ]
  },
  {
   "cell_type": "markdown",
   "metadata": {
    "colab_type": "text",
    "id": "M5AaQ2rDKdly"
   },
   "source": [
    "## <center> Importing Files"
   ]
  },
  {
   "cell_type": "markdown",
   "metadata": {
    "colab_type": "text",
    "id": "jo9Gd6kqKdlz"
   },
   "source": [
    "### Import .csv files\n",
    "\n",
    "Use the file path: /home/rhyme/Desktop/Project/\n",
    "\n",
    "(Note: If you want to use this command for a file on your own system, be sure to use the correct file path.)"
   ]
  },
  {
   "cell_type": "code",
   "execution_count": 17,
   "metadata": {
    "colab": {},
    "colab_type": "code",
    "id": "SmwNmKeyKdlz"
   },
   "outputs": [
    {
     "data": {
      "text/html": [
       "<div>\n",
       "<style scoped>\n",
       "    .dataframe tbody tr th:only-of-type {\n",
       "        vertical-align: middle;\n",
       "    }\n",
       "\n",
       "    .dataframe tbody tr th {\n",
       "        vertical-align: top;\n",
       "    }\n",
       "\n",
       "    .dataframe thead th {\n",
       "        text-align: right;\n",
       "    }\n",
       "</style>\n",
       "<table border=\"1\" class=\"dataframe\">\n",
       "  <thead>\n",
       "    <tr style=\"text-align: right;\">\n",
       "      <th></th>\n",
       "      <th>A</th>\n",
       "      <th>B</th>\n",
       "      <th>C</th>\n",
       "      <th>D</th>\n",
       "    </tr>\n",
       "  </thead>\n",
       "  <tbody>\n",
       "    <tr>\n",
       "      <th>0</th>\n",
       "      <td>NaN</td>\n",
       "      <td>-1.604969</td>\n",
       "      <td>-0.106263</td>\n",
       "      <td>-1.002924</td>\n",
       "    </tr>\n",
       "    <tr>\n",
       "      <th>1</th>\n",
       "      <td>-0.404667</td>\n",
       "      <td>0.458565</td>\n",
       "      <td>-1.174912</td>\n",
       "      <td>NaN</td>\n",
       "    </tr>\n",
       "    <tr>\n",
       "      <th>2</th>\n",
       "      <td>0.440231</td>\n",
       "      <td>1.713480</td>\n",
       "      <td>0.162473</td>\n",
       "      <td>-1.632132</td>\n",
       "    </tr>\n",
       "  </tbody>\n",
       "</table>\n",
       "</div>"
      ],
      "text/plain": [
       "          A         B         C         D\n",
       "0       NaN -1.604969 -0.106263 -1.002924\n",
       "1 -0.404667  0.458565 -1.174912       NaN\n",
       "2  0.440231  1.713480  0.162473 -1.632132"
      ]
     },
     "execution_count": 17,
     "metadata": {},
     "output_type": "execute_result"
    }
   ],
   "source": [
    "df4 = pd.read_csv('/home/rhyme/Desktop/Project/practicedata.csv')\n",
    "df4.head(3)"
   ]
  },
  {
   "cell_type": "markdown",
   "metadata": {
    "colab_type": "text",
    "id": "uCGTYpgnKdl2"
   },
   "source": [
    "-----------------"
   ]
  },
  {
   "cell_type": "markdown",
   "metadata": {
    "colab_type": "text",
    "id": "YnNKzbKEKdl2"
   },
   "source": [
    "## <center>🏆 Challenge\n",
    "    \n",
    "Import the file practicedata.json in the dataframe df5.\n",
    "\n",
    "Use the file path: /home/rhyme/Desktop/Project/"
   ]
  },
  {
   "cell_type": "code",
   "execution_count": 21,
   "metadata": {
    "colab": {},
    "colab_type": "code",
    "id": "oGc5QRJvKdl4"
   },
   "outputs": [
    {
     "data": {
      "text/html": [
       "<div>\n",
       "<style scoped>\n",
       "    .dataframe tbody tr th:only-of-type {\n",
       "        vertical-align: middle;\n",
       "    }\n",
       "\n",
       "    .dataframe tbody tr th {\n",
       "        vertical-align: top;\n",
       "    }\n",
       "\n",
       "    .dataframe thead th {\n",
       "        text-align: right;\n",
       "    }\n",
       "</style>\n",
       "<table border=\"1\" class=\"dataframe\">\n",
       "  <thead>\n",
       "    <tr style=\"text-align: right;\">\n",
       "      <th></th>\n",
       "      <th>A</th>\n",
       "      <th>B</th>\n",
       "      <th>C</th>\n",
       "      <th>D</th>\n",
       "    </tr>\n",
       "  </thead>\n",
       "  <tbody>\n",
       "    <tr>\n",
       "      <th>0</th>\n",
       "      <td>NaN</td>\n",
       "      <td>-1.604969</td>\n",
       "      <td>-0.106263</td>\n",
       "      <td>-1.002924</td>\n",
       "    </tr>\n",
       "    <tr>\n",
       "      <th>1</th>\n",
       "      <td>-0.404667</td>\n",
       "      <td>0.458565</td>\n",
       "      <td>-1.174912</td>\n",
       "      <td>NaN</td>\n",
       "    </tr>\n",
       "    <tr>\n",
       "      <th>2</th>\n",
       "      <td>0.440231</td>\n",
       "      <td>1.713480</td>\n",
       "      <td>0.162473</td>\n",
       "      <td>-1.632132</td>\n",
       "    </tr>\n",
       "  </tbody>\n",
       "</table>\n",
       "</div>"
      ],
      "text/plain": [
       "          A         B         C         D\n",
       "0       NaN -1.604969 -0.106263 -1.002924\n",
       "1 -0.404667  0.458565 -1.174912       NaN\n",
       "2  0.440231  1.713480  0.162473 -1.632132"
      ]
     },
     "execution_count": 21,
     "metadata": {},
     "output_type": "execute_result"
    }
   ],
   "source": [
    "df5 = pd.read_json('/home/rhyme/Desktop/Project/practicedata.json')\n",
    "df5.head(3)"
   ]
  },
  {
   "cell_type": "markdown",
   "metadata": {
    "colab_type": "text",
    "id": "JwEArSFUKdl7"
   },
   "source": [
    "### Importing Files from a url\n",
    "\n",
    "Import data from this github repo: https://raw.githubusercontent.com/VinitaSilaparasetty/Coursera-Pandas-for-Beginners/master/practicedata.csv\")\n"
   ]
  },
  {
   "cell_type": "code",
   "execution_count": 23,
   "metadata": {
    "colab": {},
    "colab_type": "code",
    "id": "rmtoBqDvKdl8"
   },
   "outputs": [
    {
     "data": {
      "text/html": [
       "<div>\n",
       "<style scoped>\n",
       "    .dataframe tbody tr th:only-of-type {\n",
       "        vertical-align: middle;\n",
       "    }\n",
       "\n",
       "    .dataframe tbody tr th {\n",
       "        vertical-align: top;\n",
       "    }\n",
       "\n",
       "    .dataframe thead th {\n",
       "        text-align: right;\n",
       "    }\n",
       "</style>\n",
       "<table border=\"1\" class=\"dataframe\">\n",
       "  <thead>\n",
       "    <tr style=\"text-align: right;\">\n",
       "      <th></th>\n",
       "      <th>A</th>\n",
       "      <th>B</th>\n",
       "      <th>C</th>\n",
       "      <th>D</th>\n",
       "    </tr>\n",
       "  </thead>\n",
       "  <tbody>\n",
       "    <tr>\n",
       "      <th>0</th>\n",
       "      <td>NaN</td>\n",
       "      <td>-1.604969</td>\n",
       "      <td>-0.106263</td>\n",
       "      <td>-1.002924</td>\n",
       "    </tr>\n",
       "    <tr>\n",
       "      <th>1</th>\n",
       "      <td>-0.404667</td>\n",
       "      <td>0.458565</td>\n",
       "      <td>-1.174912</td>\n",
       "      <td>NaN</td>\n",
       "    </tr>\n",
       "    <tr>\n",
       "      <th>2</th>\n",
       "      <td>0.440231</td>\n",
       "      <td>1.713480</td>\n",
       "      <td>0.162473</td>\n",
       "      <td>-1.632132</td>\n",
       "    </tr>\n",
       "  </tbody>\n",
       "</table>\n",
       "</div>"
      ],
      "text/plain": [
       "          A         B         C         D\n",
       "0       NaN -1.604969 -0.106263 -1.002924\n",
       "1 -0.404667  0.458565 -1.174912       NaN\n",
       "2  0.440231  1.713480  0.162473 -1.632132"
      ]
     },
     "execution_count": 23,
     "metadata": {},
     "output_type": "execute_result"
    }
   ],
   "source": [
    "df6= pd.read_csv('https://raw.githubusercontent.com/VinitaSilaparasetty/Coursera-Pandas-for-Beginners/master/practicedata.csv')\n",
    "df6.head(3)"
   ]
  },
  {
   "cell_type": "markdown",
   "metadata": {
    "colab_type": "text",
    "id": "n27mTE_fKdl_"
   },
   "source": [
    "## <center>🏆 Challenge\n",
    "    \n",
    "Create the data frame df7.\n",
    "\n",
    "Then import data from this github repo: https://raw.githubusercontent.com/VinitaSilaparasetty/Coursera-Pandas-for-Beginners/master/practicedata.json"
   ]
  },
  {
   "cell_type": "code",
   "execution_count": 24,
   "metadata": {
    "colab": {},
    "colab_type": "code",
    "id": "AO_hwwLSKdmA"
   },
   "outputs": [
    {
     "data": {
      "text/html": [
       "<div>\n",
       "<style scoped>\n",
       "    .dataframe tbody tr th:only-of-type {\n",
       "        vertical-align: middle;\n",
       "    }\n",
       "\n",
       "    .dataframe tbody tr th {\n",
       "        vertical-align: top;\n",
       "    }\n",
       "\n",
       "    .dataframe thead th {\n",
       "        text-align: right;\n",
       "    }\n",
       "</style>\n",
       "<table border=\"1\" class=\"dataframe\">\n",
       "  <thead>\n",
       "    <tr style=\"text-align: right;\">\n",
       "      <th></th>\n",
       "      <th>A</th>\n",
       "      <th>B</th>\n",
       "      <th>C</th>\n",
       "      <th>D</th>\n",
       "    </tr>\n",
       "  </thead>\n",
       "  <tbody>\n",
       "    <tr>\n",
       "      <th>0</th>\n",
       "      <td>NaN</td>\n",
       "      <td>-1.604969</td>\n",
       "      <td>-0.106263</td>\n",
       "      <td>-1.002924</td>\n",
       "    </tr>\n",
       "    <tr>\n",
       "      <th>1</th>\n",
       "      <td>-0.404667</td>\n",
       "      <td>0.458565</td>\n",
       "      <td>-1.174912</td>\n",
       "      <td>NaN</td>\n",
       "    </tr>\n",
       "    <tr>\n",
       "      <th>2</th>\n",
       "      <td>0.440231</td>\n",
       "      <td>1.713480</td>\n",
       "      <td>0.162473</td>\n",
       "      <td>-1.632132</td>\n",
       "    </tr>\n",
       "  </tbody>\n",
       "</table>\n",
       "</div>"
      ],
      "text/plain": [
       "          A         B         C         D\n",
       "0       NaN -1.604969 -0.106263 -1.002924\n",
       "1 -0.404667  0.458565 -1.174912       NaN\n",
       "2  0.440231  1.713480  0.162473 -1.632132"
      ]
     },
     "execution_count": 24,
     "metadata": {},
     "output_type": "execute_result"
    }
   ],
   "source": [
    "df7 = pd.read_json('https://raw.githubusercontent.com/VinitaSilaparasetty/Coursera-Pandas-for-Beginners/master/practicedata.json')\n",
    "df7.head(3)"
   ]
  },
  {
   "cell_type": "markdown",
   "metadata": {
    "colab_type": "text",
    "id": "_EThdbK-KdmC"
   },
   "source": [
    "## <center> Export Files"
   ]
  },
  {
   "cell_type": "markdown",
   "metadata": {
    "colab_type": "text",
    "id": "z0XsMHH5KdmD"
   },
   "source": [
    "### Export .csv Files"
   ]
  },
  {
   "cell_type": "code",
   "execution_count": 25,
   "metadata": {
    "colab": {},
    "colab_type": "code",
    "id": "S8V4mCjZKdmD"
   },
   "outputs": [],
   "source": [
    "df4.to_csv('/home/rhyme/Desktop/Project/practicedata2.csv')"
   ]
  },
  {
   "cell_type": "markdown",
   "metadata": {
    "colab_type": "text",
    "id": "dIfmNerUKdmF"
   },
   "source": [
    "## <center>🏆 Challenge\n",
    "\n",
    "Export the data from df4 to 'practicedata2.json'\n",
    "\n",
    "Use the file path:/home/rhyme/Desktop/Project/"
   ]
  },
  {
   "cell_type": "code",
   "execution_count": 26,
   "metadata": {
    "colab": {},
    "colab_type": "code",
    "id": "hAKKLJFdKdmG"
   },
   "outputs": [],
   "source": [
    "df4.to_json('/home/rhyme/Desktop/Project/practicedata2.json')"
   ]
  },
  {
   "cell_type": "markdown",
   "metadata": {
    "colab_type": "text",
    "id": "FlkZR3qZKdmI"
   },
   "source": [
    "## <center>Data Summary\n",
    "    \n",
    "We will be working with data frame df6 for this section. "
   ]
  },
  {
   "cell_type": "code",
   "execution_count": 27,
   "metadata": {
    "colab": {},
    "colab_type": "code",
    "id": "lKTohz7wKdmJ"
   },
   "outputs": [
    {
     "data": {
      "text/html": [
       "<div>\n",
       "<style scoped>\n",
       "    .dataframe tbody tr th:only-of-type {\n",
       "        vertical-align: middle;\n",
       "    }\n",
       "\n",
       "    .dataframe tbody tr th {\n",
       "        vertical-align: top;\n",
       "    }\n",
       "\n",
       "    .dataframe thead th {\n",
       "        text-align: right;\n",
       "    }\n",
       "</style>\n",
       "<table border=\"1\" class=\"dataframe\">\n",
       "  <thead>\n",
       "    <tr style=\"text-align: right;\">\n",
       "      <th></th>\n",
       "      <th>A</th>\n",
       "      <th>B</th>\n",
       "      <th>C</th>\n",
       "      <th>D</th>\n",
       "    </tr>\n",
       "  </thead>\n",
       "  <tbody>\n",
       "    <tr>\n",
       "      <th>0</th>\n",
       "      <td>NaN</td>\n",
       "      <td>-1.604969</td>\n",
       "      <td>-0.106263</td>\n",
       "      <td>-1.002924</td>\n",
       "    </tr>\n",
       "    <tr>\n",
       "      <th>1</th>\n",
       "      <td>-0.404667</td>\n",
       "      <td>0.458565</td>\n",
       "      <td>-1.174912</td>\n",
       "      <td>NaN</td>\n",
       "    </tr>\n",
       "    <tr>\n",
       "      <th>2</th>\n",
       "      <td>0.440231</td>\n",
       "      <td>1.713480</td>\n",
       "      <td>0.162473</td>\n",
       "      <td>-1.632132</td>\n",
       "    </tr>\n",
       "    <tr>\n",
       "      <th>3</th>\n",
       "      <td>0.081050</td>\n",
       "      <td>0.639851</td>\n",
       "      <td>0.844037</td>\n",
       "      <td>1.463154</td>\n",
       "    </tr>\n",
       "    <tr>\n",
       "      <th>4</th>\n",
       "      <td>-1.013616</td>\n",
       "      <td>-0.224553</td>\n",
       "      <td>1.786915</td>\n",
       "      <td>1.041241</td>\n",
       "    </tr>\n",
       "    <tr>\n",
       "      <th>5</th>\n",
       "      <td>-1.013616</td>\n",
       "      <td>-0.224553</td>\n",
       "      <td>1.786915</td>\n",
       "      <td>1.041241</td>\n",
       "    </tr>\n",
       "    <tr>\n",
       "      <th>6</th>\n",
       "      <td>-0.488965</td>\n",
       "      <td>0.946528</td>\n",
       "      <td>0.829525</td>\n",
       "      <td>-0.529912</td>\n",
       "    </tr>\n",
       "    <tr>\n",
       "      <th>7</th>\n",
       "      <td>-0.488965</td>\n",
       "      <td>0.946528</td>\n",
       "      <td>0.829525</td>\n",
       "      <td>-0.529912</td>\n",
       "    </tr>\n",
       "  </tbody>\n",
       "</table>\n",
       "</div>"
      ],
      "text/plain": [
       "          A         B         C         D\n",
       "0       NaN -1.604969 -0.106263 -1.002924\n",
       "1 -0.404667  0.458565 -1.174912       NaN\n",
       "2  0.440231  1.713480  0.162473 -1.632132\n",
       "3  0.081050  0.639851  0.844037  1.463154\n",
       "4 -1.013616 -0.224553  1.786915  1.041241\n",
       "5 -1.013616 -0.224553  1.786915  1.041241\n",
       "6 -0.488965  0.946528  0.829525 -0.529912\n",
       "7 -0.488965  0.946528  0.829525 -0.529912"
      ]
     },
     "execution_count": 27,
     "metadata": {},
     "output_type": "execute_result"
    }
   ],
   "source": [
    "#first run this cell to create the data frame df6\n",
    "df6 = pd.read_csv(\"https://raw.githubusercontent.com/VinitaSilaparasetty/Coursera-Pandas-for-Beginners/master/practicedata.csv\")\n",
    "df6"
   ]
  },
  {
   "cell_type": "markdown",
   "metadata": {
    "colab_type": "text",
    "id": "DN6MB5lMKdmL"
   },
   "source": [
    "### Quick Summary of Data"
   ]
  },
  {
   "cell_type": "code",
   "execution_count": 28,
   "metadata": {
    "colab": {},
    "colab_type": "code",
    "id": "mugbGs2uKdmM"
   },
   "outputs": [
    {
     "name": "stdout",
     "output_type": "stream",
     "text": [
      "<class 'pandas.core.frame.DataFrame'>\n",
      "RangeIndex: 8 entries, 0 to 7\n",
      "Data columns (total 4 columns):\n",
      " #   Column  Non-Null Count  Dtype  \n",
      "---  ------  --------------  -----  \n",
      " 0   A       7 non-null      float64\n",
      " 1   B       8 non-null      float64\n",
      " 2   C       8 non-null      float64\n",
      " 3   D       7 non-null      float64\n",
      "dtypes: float64(4)\n",
      "memory usage: 384.0 bytes\n"
     ]
    }
   ],
   "source": [
    "df6.info()"
   ]
  },
  {
   "cell_type": "markdown",
   "metadata": {
    "colab_type": "text",
    "id": "3_jL7fU6KdmQ"
   },
   "source": [
    "### Detailed Summary of Data"
   ]
  },
  {
   "cell_type": "code",
   "execution_count": 29,
   "metadata": {
    "colab": {},
    "colab_type": "code",
    "id": "GzgcphGkKdmQ"
   },
   "outputs": [
    {
     "data": {
      "text/html": [
       "<div>\n",
       "<style scoped>\n",
       "    .dataframe tbody tr th:only-of-type {\n",
       "        vertical-align: middle;\n",
       "    }\n",
       "\n",
       "    .dataframe tbody tr th {\n",
       "        vertical-align: top;\n",
       "    }\n",
       "\n",
       "    .dataframe thead th {\n",
       "        text-align: right;\n",
       "    }\n",
       "</style>\n",
       "<table border=\"1\" class=\"dataframe\">\n",
       "  <thead>\n",
       "    <tr style=\"text-align: right;\">\n",
       "      <th></th>\n",
       "      <th>A</th>\n",
       "      <th>B</th>\n",
       "      <th>C</th>\n",
       "      <th>D</th>\n",
       "    </tr>\n",
       "  </thead>\n",
       "  <tbody>\n",
       "    <tr>\n",
       "      <th>count</th>\n",
       "      <td>7.000000</td>\n",
       "      <td>8.000000</td>\n",
       "      <td>8.000000</td>\n",
       "      <td>7.000000</td>\n",
       "    </tr>\n",
       "    <tr>\n",
       "      <th>mean</th>\n",
       "      <td>-0.412650</td>\n",
       "      <td>0.331360</td>\n",
       "      <td>0.619777</td>\n",
       "      <td>-0.021321</td>\n",
       "    </tr>\n",
       "    <tr>\n",
       "      <th>std</th>\n",
       "      <td>0.533101</td>\n",
       "      <td>1.010369</td>\n",
       "      <td>0.987050</td>\n",
       "      <td>1.192849</td>\n",
       "    </tr>\n",
       "    <tr>\n",
       "      <th>min</th>\n",
       "      <td>-1.013616</td>\n",
       "      <td>-1.604969</td>\n",
       "      <td>-1.174912</td>\n",
       "      <td>-1.632132</td>\n",
       "    </tr>\n",
       "    <tr>\n",
       "      <th>25%</th>\n",
       "      <td>-0.751291</td>\n",
       "      <td>-0.224553</td>\n",
       "      <td>0.095289</td>\n",
       "      <td>-0.766418</td>\n",
       "    </tr>\n",
       "    <tr>\n",
       "      <th>50%</th>\n",
       "      <td>-0.488965</td>\n",
       "      <td>0.549208</td>\n",
       "      <td>0.829525</td>\n",
       "      <td>-0.529912</td>\n",
       "    </tr>\n",
       "    <tr>\n",
       "      <th>75%</th>\n",
       "      <td>-0.161808</td>\n",
       "      <td>0.946528</td>\n",
       "      <td>1.079757</td>\n",
       "      <td>1.041241</td>\n",
       "    </tr>\n",
       "    <tr>\n",
       "      <th>max</th>\n",
       "      <td>0.440231</td>\n",
       "      <td>1.713480</td>\n",
       "      <td>1.786915</td>\n",
       "      <td>1.463154</td>\n",
       "    </tr>\n",
       "  </tbody>\n",
       "</table>\n",
       "</div>"
      ],
      "text/plain": [
       "              A         B         C         D\n",
       "count  7.000000  8.000000  8.000000  7.000000\n",
       "mean  -0.412650  0.331360  0.619777 -0.021321\n",
       "std    0.533101  1.010369  0.987050  1.192849\n",
       "min   -1.013616 -1.604969 -1.174912 -1.632132\n",
       "25%   -0.751291 -0.224553  0.095289 -0.766418\n",
       "50%   -0.488965  0.549208  0.829525 -0.529912\n",
       "75%   -0.161808  0.946528  1.079757  1.041241\n",
       "max    0.440231  1.713480  1.786915  1.463154"
      ]
     },
     "execution_count": 29,
     "metadata": {},
     "output_type": "execute_result"
    }
   ],
   "source": [
    "df6.describe()"
   ]
  },
  {
   "cell_type": "markdown",
   "metadata": {
    "colab_type": "text",
    "id": "CF4sggh4KdmU"
   },
   "source": [
    "## <center>View Columns"
   ]
  },
  {
   "cell_type": "code",
   "execution_count": 30,
   "metadata": {
    "colab": {},
    "colab_type": "code",
    "id": "pgMfvaJxKdmU"
   },
   "outputs": [
    {
     "data": {
      "text/plain": [
       "Index(['A', 'B', 'C', 'D'], dtype='object')"
      ]
     },
     "execution_count": 30,
     "metadata": {},
     "output_type": "execute_result"
    }
   ],
   "source": [
    "df6.columns"
   ]
  },
  {
   "cell_type": "code",
   "execution_count": null,
   "metadata": {
    "colab": {},
    "colab_type": "code",
    "id": "sdeACv2SRlOH"
   },
   "outputs": [],
   "source": []
  },
  {
   "cell_type": "markdown",
   "metadata": {
    "colab_type": "text",
    "id": "uAXDELuXKdmX"
   },
   "source": [
    "## <center>🏆 Challenge\n",
    "    \n",
    "View the columns in df7."
   ]
  },
  {
   "cell_type": "code",
   "execution_count": 31,
   "metadata": {
    "colab": {},
    "colab_type": "code",
    "id": "uE5qFaJtKdmX"
   },
   "outputs": [
    {
     "data": {
      "text/html": [
       "<div>\n",
       "<style scoped>\n",
       "    .dataframe tbody tr th:only-of-type {\n",
       "        vertical-align: middle;\n",
       "    }\n",
       "\n",
       "    .dataframe tbody tr th {\n",
       "        vertical-align: top;\n",
       "    }\n",
       "\n",
       "    .dataframe thead th {\n",
       "        text-align: right;\n",
       "    }\n",
       "</style>\n",
       "<table border=\"1\" class=\"dataframe\">\n",
       "  <thead>\n",
       "    <tr style=\"text-align: right;\">\n",
       "      <th></th>\n",
       "      <th>A</th>\n",
       "      <th>B</th>\n",
       "      <th>C</th>\n",
       "      <th>D</th>\n",
       "    </tr>\n",
       "  </thead>\n",
       "  <tbody>\n",
       "    <tr>\n",
       "      <th>0</th>\n",
       "      <td>NaN</td>\n",
       "      <td>-1.604969</td>\n",
       "      <td>-0.106263</td>\n",
       "      <td>-1.002924</td>\n",
       "    </tr>\n",
       "    <tr>\n",
       "      <th>1</th>\n",
       "      <td>-0.404667</td>\n",
       "      <td>0.458565</td>\n",
       "      <td>-1.174912</td>\n",
       "      <td>NaN</td>\n",
       "    </tr>\n",
       "    <tr>\n",
       "      <th>2</th>\n",
       "      <td>0.440231</td>\n",
       "      <td>1.713480</td>\n",
       "      <td>0.162473</td>\n",
       "      <td>-1.632132</td>\n",
       "    </tr>\n",
       "    <tr>\n",
       "      <th>3</th>\n",
       "      <td>0.081050</td>\n",
       "      <td>0.639851</td>\n",
       "      <td>0.844037</td>\n",
       "      <td>1.463154</td>\n",
       "    </tr>\n",
       "    <tr>\n",
       "      <th>4</th>\n",
       "      <td>-1.013616</td>\n",
       "      <td>-0.224553</td>\n",
       "      <td>1.786915</td>\n",
       "      <td>1.041241</td>\n",
       "    </tr>\n",
       "    <tr>\n",
       "      <th>5</th>\n",
       "      <td>-1.013616</td>\n",
       "      <td>-0.224553</td>\n",
       "      <td>1.786915</td>\n",
       "      <td>1.041241</td>\n",
       "    </tr>\n",
       "    <tr>\n",
       "      <th>6</th>\n",
       "      <td>-0.488965</td>\n",
       "      <td>0.946528</td>\n",
       "      <td>0.829525</td>\n",
       "      <td>-0.529912</td>\n",
       "    </tr>\n",
       "    <tr>\n",
       "      <th>7</th>\n",
       "      <td>-0.488965</td>\n",
       "      <td>0.946528</td>\n",
       "      <td>0.829525</td>\n",
       "      <td>-0.529912</td>\n",
       "    </tr>\n",
       "  </tbody>\n",
       "</table>\n",
       "</div>"
      ],
      "text/plain": [
       "          A         B         C         D\n",
       "0       NaN -1.604969 -0.106263 -1.002924\n",
       "1 -0.404667  0.458565 -1.174912       NaN\n",
       "2  0.440231  1.713480  0.162473 -1.632132\n",
       "3  0.081050  0.639851  0.844037  1.463154\n",
       "4 -1.013616 -0.224553  1.786915  1.041241\n",
       "5 -1.013616 -0.224553  1.786915  1.041241\n",
       "6 -0.488965  0.946528  0.829525 -0.529912\n",
       "7 -0.488965  0.946528  0.829525 -0.529912"
      ]
     },
     "execution_count": 31,
     "metadata": {},
     "output_type": "execute_result"
    }
   ],
   "source": [
    "#first run this cell to create the data frame df7\n",
    "df7 = pd.read_json(\"https://raw.githubusercontent.com/VinitaSilaparasetty/Coursera-Pandas-for-Beginners/master/practicedata.json\")\n",
    "df7"
   ]
  },
  {
   "cell_type": "code",
   "execution_count": 32,
   "metadata": {
    "colab": {},
    "colab_type": "code",
    "id": "f11ZMpvZKdma"
   },
   "outputs": [
    {
     "data": {
      "text/plain": [
       "Index(['A', 'B', 'C', 'D'], dtype='object')"
      ]
     },
     "execution_count": 32,
     "metadata": {},
     "output_type": "execute_result"
    }
   ],
   "source": [
    "df7.columns"
   ]
  },
  {
   "cell_type": "markdown",
   "metadata": {
    "colab_type": "text",
    "id": "CHrYIhwHKdmg"
   },
   "source": [
    "## <center>View Datatypes"
   ]
  },
  {
   "cell_type": "code",
   "execution_count": null,
   "metadata": {
    "colab": {},
    "colab_type": "code",
    "id": "jAZnSb1pKdmg"
   },
   "outputs": [],
   "source": []
  },
  {
   "cell_type": "markdown",
   "metadata": {
    "colab_type": "text",
    "id": "6gAkSbTSKdml"
   },
   "source": [
    "## <center>🏆 Challenge\n",
    "    \n",
    "View the datatypes in df7"
   ]
  },
  {
   "cell_type": "code",
   "execution_count": 33,
   "metadata": {
    "colab": {},
    "colab_type": "code",
    "id": "LxbDyFpEKdml"
   },
   "outputs": [
    {
     "data": {
      "text/plain": [
       "A    float64\n",
       "B    float64\n",
       "C    float64\n",
       "D    float64\n",
       "dtype: object"
      ]
     },
     "execution_count": 33,
     "metadata": {},
     "output_type": "execute_result"
    }
   ],
   "source": [
    "df7.dtypes"
   ]
  },
  {
   "cell_type": "markdown",
   "metadata": {
    "colab_type": "text",
    "id": "UQwb5eCOKdmn"
   },
   "source": [
    "## <center>Handling Duplicates"
   ]
  },
  {
   "cell_type": "markdown",
   "metadata": {
    "colab_type": "text",
    "id": "1tMdWWs1Kdmo"
   },
   "source": [
    "### Detect Duplicate Rows"
   ]
  },
  {
   "cell_type": "code",
   "execution_count": 34,
   "metadata": {
    "colab": {},
    "colab_type": "code",
    "id": "j8V83rOeKdmp"
   },
   "outputs": [
    {
     "data": {
      "text/plain": [
       "0    False\n",
       "1    False\n",
       "2    False\n",
       "3    False\n",
       "4    False\n",
       "5     True\n",
       "6    False\n",
       "7     True\n",
       "dtype: bool"
      ]
     },
     "execution_count": 34,
     "metadata": {},
     "output_type": "execute_result"
    }
   ],
   "source": [
    "df6.duplicated()"
   ]
  },
  {
   "cell_type": "markdown",
   "metadata": {
    "colab_type": "text",
    "id": "bRPgjo9fKdmr"
   },
   "source": [
    "### Drop Duplicate Rows"
   ]
  },
  {
   "cell_type": "code",
   "execution_count": 35,
   "metadata": {
    "colab": {},
    "colab_type": "code",
    "id": "FWPMWXQQKdms"
   },
   "outputs": [
    {
     "data": {
      "text/html": [
       "<div>\n",
       "<style scoped>\n",
       "    .dataframe tbody tr th:only-of-type {\n",
       "        vertical-align: middle;\n",
       "    }\n",
       "\n",
       "    .dataframe tbody tr th {\n",
       "        vertical-align: top;\n",
       "    }\n",
       "\n",
       "    .dataframe thead th {\n",
       "        text-align: right;\n",
       "    }\n",
       "</style>\n",
       "<table border=\"1\" class=\"dataframe\">\n",
       "  <thead>\n",
       "    <tr style=\"text-align: right;\">\n",
       "      <th></th>\n",
       "      <th>A</th>\n",
       "      <th>B</th>\n",
       "      <th>C</th>\n",
       "      <th>D</th>\n",
       "    </tr>\n",
       "  </thead>\n",
       "  <tbody>\n",
       "    <tr>\n",
       "      <th>0</th>\n",
       "      <td>NaN</td>\n",
       "      <td>-1.604969</td>\n",
       "      <td>-0.106263</td>\n",
       "      <td>-1.002924</td>\n",
       "    </tr>\n",
       "    <tr>\n",
       "      <th>1</th>\n",
       "      <td>-0.404667</td>\n",
       "      <td>0.458565</td>\n",
       "      <td>-1.174912</td>\n",
       "      <td>NaN</td>\n",
       "    </tr>\n",
       "    <tr>\n",
       "      <th>2</th>\n",
       "      <td>0.440231</td>\n",
       "      <td>1.713480</td>\n",
       "      <td>0.162473</td>\n",
       "      <td>-1.632132</td>\n",
       "    </tr>\n",
       "    <tr>\n",
       "      <th>3</th>\n",
       "      <td>0.081050</td>\n",
       "      <td>0.639851</td>\n",
       "      <td>0.844037</td>\n",
       "      <td>1.463154</td>\n",
       "    </tr>\n",
       "    <tr>\n",
       "      <th>4</th>\n",
       "      <td>-1.013616</td>\n",
       "      <td>-0.224553</td>\n",
       "      <td>1.786915</td>\n",
       "      <td>1.041241</td>\n",
       "    </tr>\n",
       "    <tr>\n",
       "      <th>6</th>\n",
       "      <td>-0.488965</td>\n",
       "      <td>0.946528</td>\n",
       "      <td>0.829525</td>\n",
       "      <td>-0.529912</td>\n",
       "    </tr>\n",
       "  </tbody>\n",
       "</table>\n",
       "</div>"
      ],
      "text/plain": [
       "          A         B         C         D\n",
       "0       NaN -1.604969 -0.106263 -1.002924\n",
       "1 -0.404667  0.458565 -1.174912       NaN\n",
       "2  0.440231  1.713480  0.162473 -1.632132\n",
       "3  0.081050  0.639851  0.844037  1.463154\n",
       "4 -1.013616 -0.224553  1.786915  1.041241\n",
       "6 -0.488965  0.946528  0.829525 -0.529912"
      ]
     },
     "execution_count": 35,
     "metadata": {},
     "output_type": "execute_result"
    }
   ],
   "source": [
    "df6.drop_duplicates()"
   ]
  },
  {
   "cell_type": "markdown",
   "metadata": {
    "colab_type": "text",
    "id": "kFpZG62ZKdmv"
   },
   "source": [
    "## <center>🏆 Challenge\n",
    "    \n",
    "Detect and drop duplicates in df7"
   ]
  },
  {
   "cell_type": "code",
   "execution_count": 37,
   "metadata": {
    "colab": {},
    "colab_type": "code",
    "id": "DhkddpPEKdmw"
   },
   "outputs": [
    {
     "data": {
      "text/plain": [
       "0    False\n",
       "1    False\n",
       "2    False\n",
       "3    False\n",
       "4    False\n",
       "5     True\n",
       "6    False\n",
       "7     True\n",
       "dtype: bool"
      ]
     },
     "execution_count": 37,
     "metadata": {},
     "output_type": "execute_result"
    }
   ],
   "source": [
    "#Detect duplicates\n",
    "df7.duplicated()"
   ]
  },
  {
   "cell_type": "code",
   "execution_count": 39,
   "metadata": {
    "colab": {},
    "colab_type": "code",
    "id": "IiCtmeqoKdmy"
   },
   "outputs": [
    {
     "data": {
      "text/html": [
       "<div>\n",
       "<style scoped>\n",
       "    .dataframe tbody tr th:only-of-type {\n",
       "        vertical-align: middle;\n",
       "    }\n",
       "\n",
       "    .dataframe tbody tr th {\n",
       "        vertical-align: top;\n",
       "    }\n",
       "\n",
       "    .dataframe thead th {\n",
       "        text-align: right;\n",
       "    }\n",
       "</style>\n",
       "<table border=\"1\" class=\"dataframe\">\n",
       "  <thead>\n",
       "    <tr style=\"text-align: right;\">\n",
       "      <th></th>\n",
       "      <th>A</th>\n",
       "      <th>B</th>\n",
       "      <th>C</th>\n",
       "      <th>D</th>\n",
       "    </tr>\n",
       "  </thead>\n",
       "  <tbody>\n",
       "    <tr>\n",
       "      <th>0</th>\n",
       "      <td>NaN</td>\n",
       "      <td>-1.604969</td>\n",
       "      <td>-0.106263</td>\n",
       "      <td>-1.002924</td>\n",
       "    </tr>\n",
       "    <tr>\n",
       "      <th>1</th>\n",
       "      <td>-0.404667</td>\n",
       "      <td>0.458565</td>\n",
       "      <td>-1.174912</td>\n",
       "      <td>NaN</td>\n",
       "    </tr>\n",
       "    <tr>\n",
       "      <th>2</th>\n",
       "      <td>0.440231</td>\n",
       "      <td>1.713480</td>\n",
       "      <td>0.162473</td>\n",
       "      <td>-1.632132</td>\n",
       "    </tr>\n",
       "    <tr>\n",
       "      <th>3</th>\n",
       "      <td>0.081050</td>\n",
       "      <td>0.639851</td>\n",
       "      <td>0.844037</td>\n",
       "      <td>1.463154</td>\n",
       "    </tr>\n",
       "    <tr>\n",
       "      <th>4</th>\n",
       "      <td>-1.013616</td>\n",
       "      <td>-0.224553</td>\n",
       "      <td>1.786915</td>\n",
       "      <td>1.041241</td>\n",
       "    </tr>\n",
       "    <tr>\n",
       "      <th>6</th>\n",
       "      <td>-0.488965</td>\n",
       "      <td>0.946528</td>\n",
       "      <td>0.829525</td>\n",
       "      <td>-0.529912</td>\n",
       "    </tr>\n",
       "  </tbody>\n",
       "</table>\n",
       "</div>"
      ],
      "text/plain": [
       "          A         B         C         D\n",
       "0       NaN -1.604969 -0.106263 -1.002924\n",
       "1 -0.404667  0.458565 -1.174912       NaN\n",
       "2  0.440231  1.713480  0.162473 -1.632132\n",
       "3  0.081050  0.639851  0.844037  1.463154\n",
       "4 -1.013616 -0.224553  1.786915  1.041241\n",
       "6 -0.488965  0.946528  0.829525 -0.529912"
      ]
     },
     "execution_count": 39,
     "metadata": {},
     "output_type": "execute_result"
    }
   ],
   "source": [
    "#Drop duplicates\n",
    "df7.drop_duplicates()"
   ]
  },
  {
   "cell_type": "markdown",
   "metadata": {
    "colab_type": "text",
    "id": "waWxSZcJKdm2"
   },
   "source": [
    "## <center>Handling Missing Values"
   ]
  },
  {
   "cell_type": "markdown",
   "metadata": {
    "colab_type": "text",
    "id": "6PDXv6FgKdm3"
   },
   "source": [
    "### Detect Missing Values"
   ]
  },
  {
   "cell_type": "code",
   "execution_count": 40,
   "metadata": {
    "colab": {},
    "colab_type": "code",
    "id": "kzSahpp3Kdm3"
   },
   "outputs": [
    {
     "name": "stdout",
     "output_type": "stream",
     "text": [
      "A    1\n",
      "B    0\n",
      "C    0\n",
      "D    1\n",
      "dtype: int64\n"
     ]
    }
   ],
   "source": [
    "print(df6.isnull().sum())"
   ]
  },
  {
   "cell_type": "markdown",
   "metadata": {
    "colab_type": "text",
    "id": "7Mg3mhXoKdm8"
   },
   "source": [
    "### Drop Missing Values"
   ]
  },
  {
   "cell_type": "code",
   "execution_count": 41,
   "metadata": {
    "colab": {},
    "colab_type": "code",
    "id": "VbpeE7B_Kdm8"
   },
   "outputs": [
    {
     "data": {
      "text/html": [
       "<div>\n",
       "<style scoped>\n",
       "    .dataframe tbody tr th:only-of-type {\n",
       "        vertical-align: middle;\n",
       "    }\n",
       "\n",
       "    .dataframe tbody tr th {\n",
       "        vertical-align: top;\n",
       "    }\n",
       "\n",
       "    .dataframe thead th {\n",
       "        text-align: right;\n",
       "    }\n",
       "</style>\n",
       "<table border=\"1\" class=\"dataframe\">\n",
       "  <thead>\n",
       "    <tr style=\"text-align: right;\">\n",
       "      <th></th>\n",
       "      <th>A</th>\n",
       "      <th>B</th>\n",
       "      <th>C</th>\n",
       "      <th>D</th>\n",
       "    </tr>\n",
       "  </thead>\n",
       "  <tbody>\n",
       "    <tr>\n",
       "      <th>2</th>\n",
       "      <td>0.440231</td>\n",
       "      <td>1.713480</td>\n",
       "      <td>0.162473</td>\n",
       "      <td>-1.632132</td>\n",
       "    </tr>\n",
       "    <tr>\n",
       "      <th>3</th>\n",
       "      <td>0.081050</td>\n",
       "      <td>0.639851</td>\n",
       "      <td>0.844037</td>\n",
       "      <td>1.463154</td>\n",
       "    </tr>\n",
       "    <tr>\n",
       "      <th>4</th>\n",
       "      <td>-1.013616</td>\n",
       "      <td>-0.224553</td>\n",
       "      <td>1.786915</td>\n",
       "      <td>1.041241</td>\n",
       "    </tr>\n",
       "    <tr>\n",
       "      <th>5</th>\n",
       "      <td>-1.013616</td>\n",
       "      <td>-0.224553</td>\n",
       "      <td>1.786915</td>\n",
       "      <td>1.041241</td>\n",
       "    </tr>\n",
       "    <tr>\n",
       "      <th>6</th>\n",
       "      <td>-0.488965</td>\n",
       "      <td>0.946528</td>\n",
       "      <td>0.829525</td>\n",
       "      <td>-0.529912</td>\n",
       "    </tr>\n",
       "    <tr>\n",
       "      <th>7</th>\n",
       "      <td>-0.488965</td>\n",
       "      <td>0.946528</td>\n",
       "      <td>0.829525</td>\n",
       "      <td>-0.529912</td>\n",
       "    </tr>\n",
       "  </tbody>\n",
       "</table>\n",
       "</div>"
      ],
      "text/plain": [
       "          A         B         C         D\n",
       "2  0.440231  1.713480  0.162473 -1.632132\n",
       "3  0.081050  0.639851  0.844037  1.463154\n",
       "4 -1.013616 -0.224553  1.786915  1.041241\n",
       "5 -1.013616 -0.224553  1.786915  1.041241\n",
       "6 -0.488965  0.946528  0.829525 -0.529912\n",
       "7 -0.488965  0.946528  0.829525 -0.529912"
      ]
     },
     "execution_count": 41,
     "metadata": {},
     "output_type": "execute_result"
    }
   ],
   "source": [
    "df6.dropna()"
   ]
  },
  {
   "cell_type": "markdown",
   "metadata": {
    "colab_type": "text",
    "id": "Z90VbmacKdm_"
   },
   "source": [
    "## <center>🏆 Challenge\n",
    "    \n",
    "Detect and drop missing values in df7"
   ]
  },
  {
   "cell_type": "code",
   "execution_count": 42,
   "metadata": {
    "colab": {},
    "colab_type": "code",
    "id": "pf0zbKWaKdm_"
   },
   "outputs": [
    {
     "name": "stdout",
     "output_type": "stream",
     "text": [
      "A    1\n",
      "B    0\n",
      "C    0\n",
      "D    1\n",
      "dtype: int64\n"
     ]
    }
   ],
   "source": [
    "#Detect missing values\n",
    "print(df7.isnull().sum())"
   ]
  },
  {
   "cell_type": "code",
   "execution_count": 43,
   "metadata": {
    "colab": {},
    "colab_type": "code",
    "id": "ThXXX8vZKdnE"
   },
   "outputs": [
    {
     "data": {
      "text/html": [
       "<div>\n",
       "<style scoped>\n",
       "    .dataframe tbody tr th:only-of-type {\n",
       "        vertical-align: middle;\n",
       "    }\n",
       "\n",
       "    .dataframe tbody tr th {\n",
       "        vertical-align: top;\n",
       "    }\n",
       "\n",
       "    .dataframe thead th {\n",
       "        text-align: right;\n",
       "    }\n",
       "</style>\n",
       "<table border=\"1\" class=\"dataframe\">\n",
       "  <thead>\n",
       "    <tr style=\"text-align: right;\">\n",
       "      <th></th>\n",
       "      <th>A</th>\n",
       "      <th>B</th>\n",
       "      <th>C</th>\n",
       "      <th>D</th>\n",
       "    </tr>\n",
       "  </thead>\n",
       "  <tbody>\n",
       "    <tr>\n",
       "      <th>2</th>\n",
       "      <td>0.440231</td>\n",
       "      <td>1.713480</td>\n",
       "      <td>0.162473</td>\n",
       "      <td>-1.632132</td>\n",
       "    </tr>\n",
       "    <tr>\n",
       "      <th>3</th>\n",
       "      <td>0.081050</td>\n",
       "      <td>0.639851</td>\n",
       "      <td>0.844037</td>\n",
       "      <td>1.463154</td>\n",
       "    </tr>\n",
       "    <tr>\n",
       "      <th>4</th>\n",
       "      <td>-1.013616</td>\n",
       "      <td>-0.224553</td>\n",
       "      <td>1.786915</td>\n",
       "      <td>1.041241</td>\n",
       "    </tr>\n",
       "    <tr>\n",
       "      <th>5</th>\n",
       "      <td>-1.013616</td>\n",
       "      <td>-0.224553</td>\n",
       "      <td>1.786915</td>\n",
       "      <td>1.041241</td>\n",
       "    </tr>\n",
       "    <tr>\n",
       "      <th>6</th>\n",
       "      <td>-0.488965</td>\n",
       "      <td>0.946528</td>\n",
       "      <td>0.829525</td>\n",
       "      <td>-0.529912</td>\n",
       "    </tr>\n",
       "    <tr>\n",
       "      <th>7</th>\n",
       "      <td>-0.488965</td>\n",
       "      <td>0.946528</td>\n",
       "      <td>0.829525</td>\n",
       "      <td>-0.529912</td>\n",
       "    </tr>\n",
       "  </tbody>\n",
       "</table>\n",
       "</div>"
      ],
      "text/plain": [
       "          A         B         C         D\n",
       "2  0.440231  1.713480  0.162473 -1.632132\n",
       "3  0.081050  0.639851  0.844037  1.463154\n",
       "4 -1.013616 -0.224553  1.786915  1.041241\n",
       "5 -1.013616 -0.224553  1.786915  1.041241\n",
       "6 -0.488965  0.946528  0.829525 -0.529912\n",
       "7 -0.488965  0.946528  0.829525 -0.529912"
      ]
     },
     "execution_count": 43,
     "metadata": {},
     "output_type": "execute_result"
    }
   ],
   "source": [
    "#Drop missing values\n",
    "df7.dropna()"
   ]
  },
  {
   "cell_type": "markdown",
   "metadata": {
    "colab_type": "text",
    "id": "2lw-Kat8KdnH"
   },
   "source": [
    "## <center>Numeric Operations"
   ]
  },
  {
   "cell_type": "markdown",
   "metadata": {
    "colab_type": "text",
    "id": "APfPwd9oKdnI"
   },
   "source": [
    "We will work with the data frame df8."
   ]
  },
  {
   "cell_type": "code",
   "execution_count": 44,
   "metadata": {
    "colab": {},
    "colab_type": "code",
    "id": "KDKVwxrGKdnJ"
   },
   "outputs": [
    {
     "data": {
      "text/html": [
       "<div>\n",
       "<style scoped>\n",
       "    .dataframe tbody tr th:only-of-type {\n",
       "        vertical-align: middle;\n",
       "    }\n",
       "\n",
       "    .dataframe tbody tr th {\n",
       "        vertical-align: top;\n",
       "    }\n",
       "\n",
       "    .dataframe thead th {\n",
       "        text-align: right;\n",
       "    }\n",
       "</style>\n",
       "<table border=\"1\" class=\"dataframe\">\n",
       "  <thead>\n",
       "    <tr style=\"text-align: right;\">\n",
       "      <th></th>\n",
       "      <th>0</th>\n",
       "      <th>1</th>\n",
       "      <th>2</th>\n",
       "      <th>3</th>\n",
       "    </tr>\n",
       "  </thead>\n",
       "  <tbody>\n",
       "    <tr>\n",
       "      <th>0</th>\n",
       "      <td>0.281079</td>\n",
       "      <td>0.850690</td>\n",
       "      <td>-1.108922</td>\n",
       "      <td>1.226838</td>\n",
       "    </tr>\n",
       "    <tr>\n",
       "      <th>1</th>\n",
       "      <td>-0.344217</td>\n",
       "      <td>-1.610254</td>\n",
       "      <td>-0.145797</td>\n",
       "      <td>0.191230</td>\n",
       "    </tr>\n",
       "    <tr>\n",
       "      <th>2</th>\n",
       "      <td>-3.137582</td>\n",
       "      <td>1.386879</td>\n",
       "      <td>-0.821739</td>\n",
       "      <td>-0.518013</td>\n",
       "    </tr>\n",
       "    <tr>\n",
       "      <th>3</th>\n",
       "      <td>-0.839733</td>\n",
       "      <td>0.770010</td>\n",
       "      <td>-0.284054</td>\n",
       "      <td>-1.225722</td>\n",
       "    </tr>\n",
       "    <tr>\n",
       "      <th>4</th>\n",
       "      <td>-0.148772</td>\n",
       "      <td>-1.735102</td>\n",
       "      <td>-0.328688</td>\n",
       "      <td>-0.110197</td>\n",
       "    </tr>\n",
       "    <tr>\n",
       "      <th>5</th>\n",
       "      <td>1.427697</td>\n",
       "      <td>-0.051448</td>\n",
       "      <td>-0.976158</td>\n",
       "      <td>0.192395</td>\n",
       "    </tr>\n",
       "  </tbody>\n",
       "</table>\n",
       "</div>"
      ],
      "text/plain": [
       "          0         1         2         3\n",
       "0  0.281079  0.850690 -1.108922  1.226838\n",
       "1 -0.344217 -1.610254 -0.145797  0.191230\n",
       "2 -3.137582  1.386879 -0.821739 -0.518013\n",
       "3 -0.839733  0.770010 -0.284054 -1.225722\n",
       "4 -0.148772 -1.735102 -0.328688 -0.110197\n",
       "5  1.427697 -0.051448 -0.976158  0.192395"
      ]
     },
     "execution_count": 44,
     "metadata": {},
     "output_type": "execute_result"
    }
   ],
   "source": [
    "#first run this cell to create the dataframe df8\n",
    "df8 = pd.DataFrame(np.random.randn(6,4))\n",
    "df8"
   ]
  },
  {
   "cell_type": "markdown",
   "metadata": {
    "colab_type": "text",
    "id": "jN8IqnIFKdnQ"
   },
   "source": [
    "### Calculate the Mean:"
   ]
  },
  {
   "cell_type": "code",
   "execution_count": 46,
   "metadata": {
    "colab": {},
    "colab_type": "code",
    "id": "m9w25pqIKdnQ"
   },
   "outputs": [
    {
     "data": {
      "text/plain": [
       "0   -0.460254\n",
       "1   -0.064871\n",
       "2   -0.610893\n",
       "3   -0.040578\n",
       "dtype: float64"
      ]
     },
     "execution_count": 46,
     "metadata": {},
     "output_type": "execute_result"
    }
   ],
   "source": [
    "df8.mean()"
   ]
  },
  {
   "cell_type": "markdown",
   "metadata": {
    "colab_type": "text",
    "id": "0qDYbVY5KdnU"
   },
   "source": [
    "## <center>🏆 Challenge\n",
    "    \n",
    "Calculate the mean of df9"
   ]
  },
  {
   "cell_type": "code",
   "execution_count": 48,
   "metadata": {
    "colab": {},
    "colab_type": "code",
    "id": "GVYUWElgKdnU"
   },
   "outputs": [
    {
     "data": {
      "text/html": [
       "<div>\n",
       "<style scoped>\n",
       "    .dataframe tbody tr th:only-of-type {\n",
       "        vertical-align: middle;\n",
       "    }\n",
       "\n",
       "    .dataframe tbody tr th {\n",
       "        vertical-align: top;\n",
       "    }\n",
       "\n",
       "    .dataframe thead th {\n",
       "        text-align: right;\n",
       "    }\n",
       "</style>\n",
       "<table border=\"1\" class=\"dataframe\">\n",
       "  <thead>\n",
       "    <tr style=\"text-align: right;\">\n",
       "      <th></th>\n",
       "      <th>0</th>\n",
       "      <th>1</th>\n",
       "      <th>2</th>\n",
       "      <th>3</th>\n",
       "    </tr>\n",
       "  </thead>\n",
       "  <tbody>\n",
       "    <tr>\n",
       "      <th>0</th>\n",
       "      <td>1.694749</td>\n",
       "      <td>0.179757</td>\n",
       "      <td>1.219053</td>\n",
       "      <td>-1.028392</td>\n",
       "    </tr>\n",
       "    <tr>\n",
       "      <th>1</th>\n",
       "      <td>1.441377</td>\n",
       "      <td>0.813215</td>\n",
       "      <td>0.188362</td>\n",
       "      <td>-0.941725</td>\n",
       "    </tr>\n",
       "    <tr>\n",
       "      <th>2</th>\n",
       "      <td>1.335564</td>\n",
       "      <td>-0.466841</td>\n",
       "      <td>-0.174271</td>\n",
       "      <td>0.007480</td>\n",
       "    </tr>\n",
       "  </tbody>\n",
       "</table>\n",
       "</div>"
      ],
      "text/plain": [
       "          0         1         2         3\n",
       "0  1.694749  0.179757  1.219053 -1.028392\n",
       "1  1.441377  0.813215  0.188362 -0.941725\n",
       "2  1.335564 -0.466841 -0.174271  0.007480"
      ]
     },
     "execution_count": 48,
     "metadata": {},
     "output_type": "execute_result"
    }
   ],
   "source": [
    "#first run this cell to create df9\n",
    "df9 = pd.DataFrame(np.random.randn(3,4))\n",
    "df9"
   ]
  },
  {
   "cell_type": "code",
   "execution_count": 49,
   "metadata": {
    "colab": {},
    "colab_type": "code",
    "id": "ec14cNcXKdnY"
   },
   "outputs": [
    {
     "data": {
      "text/plain": [
       "0    1.490564\n",
       "1    0.175377\n",
       "2    0.411048\n",
       "3   -0.654212\n",
       "dtype: float64"
      ]
     },
     "execution_count": 49,
     "metadata": {},
     "output_type": "execute_result"
    }
   ],
   "source": [
    "df9.mean()"
   ]
  },
  {
   "cell_type": "markdown",
   "metadata": {
    "colab_type": "text",
    "id": "_rYXEpNYKdne"
   },
   "source": [
    "### Calculate the Cumulative Sum:"
   ]
  },
  {
   "cell_type": "code",
   "execution_count": 53,
   "metadata": {
    "colab": {},
    "colab_type": "code",
    "id": "R9U6KznGKdne"
   },
   "outputs": [
    {
     "data": {
      "text/html": [
       "<div>\n",
       "<style scoped>\n",
       "    .dataframe tbody tr th:only-of-type {\n",
       "        vertical-align: middle;\n",
       "    }\n",
       "\n",
       "    .dataframe tbody tr th {\n",
       "        vertical-align: top;\n",
       "    }\n",
       "\n",
       "    .dataframe thead th {\n",
       "        text-align: right;\n",
       "    }\n",
       "</style>\n",
       "<table border=\"1\" class=\"dataframe\">\n",
       "  <thead>\n",
       "    <tr style=\"text-align: right;\">\n",
       "      <th></th>\n",
       "      <th>0</th>\n",
       "      <th>1</th>\n",
       "      <th>2</th>\n",
       "      <th>3</th>\n",
       "    </tr>\n",
       "  </thead>\n",
       "  <tbody>\n",
       "    <tr>\n",
       "      <th>0</th>\n",
       "      <td>0.281079</td>\n",
       "      <td>0.850690</td>\n",
       "      <td>-1.108922</td>\n",
       "      <td>1.226838</td>\n",
       "    </tr>\n",
       "    <tr>\n",
       "      <th>1</th>\n",
       "      <td>-0.063137</td>\n",
       "      <td>-0.759564</td>\n",
       "      <td>-1.254720</td>\n",
       "      <td>1.418068</td>\n",
       "    </tr>\n",
       "    <tr>\n",
       "      <th>2</th>\n",
       "      <td>-3.200720</td>\n",
       "      <td>0.627316</td>\n",
       "      <td>-2.076459</td>\n",
       "      <td>0.900054</td>\n",
       "    </tr>\n",
       "    <tr>\n",
       "      <th>3</th>\n",
       "      <td>-4.040452</td>\n",
       "      <td>1.397326</td>\n",
       "      <td>-2.360513</td>\n",
       "      <td>-0.325667</td>\n",
       "    </tr>\n",
       "    <tr>\n",
       "      <th>4</th>\n",
       "      <td>-4.189224</td>\n",
       "      <td>-0.337776</td>\n",
       "      <td>-2.689201</td>\n",
       "      <td>-0.435864</td>\n",
       "    </tr>\n",
       "    <tr>\n",
       "      <th>5</th>\n",
       "      <td>-2.761527</td>\n",
       "      <td>-0.389224</td>\n",
       "      <td>-3.665360</td>\n",
       "      <td>-0.243469</td>\n",
       "    </tr>\n",
       "  </tbody>\n",
       "</table>\n",
       "</div>"
      ],
      "text/plain": [
       "          0         1         2         3\n",
       "0  0.281079  0.850690 -1.108922  1.226838\n",
       "1 -0.063137 -0.759564 -1.254720  1.418068\n",
       "2 -3.200720  0.627316 -2.076459  0.900054\n",
       "3 -4.040452  1.397326 -2.360513 -0.325667\n",
       "4 -4.189224 -0.337776 -2.689201 -0.435864\n",
       "5 -2.761527 -0.389224 -3.665360 -0.243469"
      ]
     },
     "execution_count": 53,
     "metadata": {},
     "output_type": "execute_result"
    }
   ],
   "source": [
    "df8.apply(np.cumsum)"
   ]
  },
  {
   "cell_type": "markdown",
   "metadata": {
    "colab_type": "text",
    "id": "b_9vijDuKdni"
   },
   "source": [
    "## <center>🏆 Challenge\n",
    "    \n",
    "Calculate the cumulative sum of df9"
   ]
  },
  {
   "cell_type": "code",
   "execution_count": 54,
   "metadata": {
    "colab": {},
    "colab_type": "code",
    "id": "iJtQ-KA7Kdnj"
   },
   "outputs": [
    {
     "data": {
      "text/html": [
       "<div>\n",
       "<style scoped>\n",
       "    .dataframe tbody tr th:only-of-type {\n",
       "        vertical-align: middle;\n",
       "    }\n",
       "\n",
       "    .dataframe tbody tr th {\n",
       "        vertical-align: top;\n",
       "    }\n",
       "\n",
       "    .dataframe thead th {\n",
       "        text-align: right;\n",
       "    }\n",
       "</style>\n",
       "<table border=\"1\" class=\"dataframe\">\n",
       "  <thead>\n",
       "    <tr style=\"text-align: right;\">\n",
       "      <th></th>\n",
       "      <th>0</th>\n",
       "      <th>1</th>\n",
       "      <th>2</th>\n",
       "      <th>3</th>\n",
       "    </tr>\n",
       "  </thead>\n",
       "  <tbody>\n",
       "    <tr>\n",
       "      <th>0</th>\n",
       "      <td>1.694749</td>\n",
       "      <td>0.179757</td>\n",
       "      <td>1.219053</td>\n",
       "      <td>-1.028392</td>\n",
       "    </tr>\n",
       "    <tr>\n",
       "      <th>1</th>\n",
       "      <td>3.136126</td>\n",
       "      <td>0.992972</td>\n",
       "      <td>1.407415</td>\n",
       "      <td>-1.970117</td>\n",
       "    </tr>\n",
       "    <tr>\n",
       "      <th>2</th>\n",
       "      <td>4.471691</td>\n",
       "      <td>0.526131</td>\n",
       "      <td>1.233144</td>\n",
       "      <td>-1.962637</td>\n",
       "    </tr>\n",
       "  </tbody>\n",
       "</table>\n",
       "</div>"
      ],
      "text/plain": [
       "          0         1         2         3\n",
       "0  1.694749  0.179757  1.219053 -1.028392\n",
       "1  3.136126  0.992972  1.407415 -1.970117\n",
       "2  4.471691  0.526131  1.233144 -1.962637"
      ]
     },
     "execution_count": 54,
     "metadata": {},
     "output_type": "execute_result"
    }
   ],
   "source": [
    "df9.apply(np.cumsum)"
   ]
  },
  {
   "cell_type": "markdown",
   "metadata": {
    "colab_type": "text",
    "id": "fw0DQQRJKdnn"
   },
   "source": [
    "### Find the Maximum Value:"
   ]
  },
  {
   "cell_type": "code",
   "execution_count": 55,
   "metadata": {
    "colab": {},
    "colab_type": "code",
    "id": "zgSyqD3lKdno"
   },
   "outputs": [
    {
     "data": {
      "text/plain": [
       "0    1.427697\n",
       "1    1.386879\n",
       "2   -0.145797\n",
       "3    1.226838\n",
       "dtype: float64"
      ]
     },
     "execution_count": 55,
     "metadata": {},
     "output_type": "execute_result"
    }
   ],
   "source": [
    "df8.max()"
   ]
  },
  {
   "cell_type": "markdown",
   "metadata": {
    "colab_type": "text",
    "id": "oO0jaTlKKdns"
   },
   "source": [
    "## <center>🏆 Challenge\n",
    "\n",
    "Find the maximum value of df9"
   ]
  },
  {
   "cell_type": "code",
   "execution_count": 56,
   "metadata": {
    "colab": {},
    "colab_type": "code",
    "id": "_tk9IvRoKdns"
   },
   "outputs": [
    {
     "data": {
      "text/plain": [
       "0    1.694749\n",
       "1    0.813215\n",
       "2    1.219053\n",
       "3    0.007480\n",
       "dtype: float64"
      ]
     },
     "execution_count": 56,
     "metadata": {},
     "output_type": "execute_result"
    }
   ],
   "source": [
    "df9.max()"
   ]
  },
  {
   "cell_type": "markdown",
   "metadata": {
    "colab_type": "text",
    "id": "KiQuHnRiKdnw"
   },
   "source": [
    "### Find the Minimum Value:"
   ]
  },
  {
   "cell_type": "code",
   "execution_count": 57,
   "metadata": {
    "colab": {},
    "colab_type": "code",
    "id": "oj64lvwKKdnx"
   },
   "outputs": [
    {
     "data": {
      "text/plain": [
       "0   -3.137582\n",
       "1   -1.735102\n",
       "2   -1.108922\n",
       "3   -1.225722\n",
       "dtype: float64"
      ]
     },
     "execution_count": 57,
     "metadata": {},
     "output_type": "execute_result"
    }
   ],
   "source": [
    "df8.min()"
   ]
  },
  {
   "cell_type": "markdown",
   "metadata": {
    "colab_type": "text",
    "id": "f5rFdhtuKdn2"
   },
   "source": [
    "## <center>🏆 Challenge\n",
    "\n",
    "Find the minimum value of df9"
   ]
  },
  {
   "cell_type": "code",
   "execution_count": 58,
   "metadata": {
    "colab": {},
    "colab_type": "code",
    "id": "IP_VMNRMKdn2"
   },
   "outputs": [
    {
     "data": {
      "text/plain": [
       "0    1.335564\n",
       "1   -0.466841\n",
       "2   -0.174271\n",
       "3   -1.028392\n",
       "dtype: float64"
      ]
     },
     "execution_count": 58,
     "metadata": {},
     "output_type": "execute_result"
    }
   ],
   "source": [
    "df9.min()"
   ]
  },
  {
   "cell_type": "markdown",
   "metadata": {
    "colab_type": "text",
    "id": "AmoK6uvfKdoD"
   },
   "source": [
    "## <center>String Manipulation"
   ]
  },
  {
   "cell_type": "markdown",
   "metadata": {
    "colab_type": "text",
    "id": "PcpGu3l9KdoE"
   },
   "source": [
    "We will work with the series s7 for this section."
   ]
  },
  {
   "cell_type": "code",
   "execution_count": 59,
   "metadata": {
    "colab": {},
    "colab_type": "code",
    "id": "87p9smW1KdoH"
   },
   "outputs": [
    {
     "data": {
      "text/plain": [
       "0               animal\n",
       "1                 bird\n",
       "2     Pandas Library  \n",
       "dtype: object"
      ]
     },
     "execution_count": 59,
     "metadata": {},
     "output_type": "execute_result"
    }
   ],
   "source": [
    "#first run this cell to create series s7\n",
    "s7 = np.array(['animal','bird',' Pandas Library  '] )\n",
    "s7= pd.Series(s7)\n",
    "s7"
   ]
  },
  {
   "cell_type": "markdown",
   "metadata": {
    "colab_type": "text",
    "id": "sXWxAHHSKdoK"
   },
   "source": [
    "### Convert to Lower Case"
   ]
  },
  {
   "cell_type": "code",
   "execution_count": 61,
   "metadata": {
    "colab": {},
    "colab_type": "code",
    "id": "RfLs4tqYKdoL"
   },
   "outputs": [
    {
     "data": {
      "text/plain": [
       "0               animal\n",
       "1                 bird\n",
       "2     pandas library  \n",
       "dtype: object"
      ]
     },
     "execution_count": 61,
     "metadata": {},
     "output_type": "execute_result"
    }
   ],
   "source": [
    "s7.str.lower()"
   ]
  },
  {
   "cell_type": "markdown",
   "metadata": {
    "colab_type": "text",
    "id": "4UiBFht5KdoO"
   },
   "source": [
    "## <center>🏆 Challenge\n",
    "\n",
    "Convert the strings in s8 to lower case."
   ]
  },
  {
   "cell_type": "code",
   "execution_count": 62,
   "metadata": {
    "colab": {},
    "colab_type": "code",
    "id": "cdW2k0hsYO8v"
   },
   "outputs": [
    {
     "data": {
      "text/plain": [
       "0                     cat\n",
       "1                     dog\n",
       "2     Python Programming \n",
       "dtype: object"
      ]
     },
     "execution_count": 62,
     "metadata": {},
     "output_type": "execute_result"
    }
   ],
   "source": [
    "s8 = np.array(['cat', 'dog', ' Python Programming '])\n",
    "s8 = pd.Series(s8)\n",
    "s8"
   ]
  },
  {
   "cell_type": "code",
   "execution_count": 63,
   "metadata": {
    "colab": {},
    "colab_type": "code",
    "id": "7XPPG1D1KdoP"
   },
   "outputs": [
    {
     "data": {
      "text/plain": [
       "0                     cat\n",
       "1                     dog\n",
       "2     python programming \n",
       "dtype: object"
      ]
     },
     "execution_count": 63,
     "metadata": {},
     "output_type": "execute_result"
    }
   ],
   "source": [
    "s8.str.lower()"
   ]
  },
  {
   "cell_type": "markdown",
   "metadata": {
    "colab_type": "text",
    "id": "lUWneFcJKdoZ"
   },
   "source": [
    "---------------"
   ]
  },
  {
   "cell_type": "markdown",
   "metadata": {
    "colab_type": "text",
    "id": "Are8Zvx6Kdob"
   },
   "source": [
    "### Convert to Upper Case"
   ]
  },
  {
   "cell_type": "code",
   "execution_count": 64,
   "metadata": {
    "colab": {},
    "colab_type": "code",
    "id": "MX5fwebiKdob"
   },
   "outputs": [
    {
     "data": {
      "text/plain": [
       "0               ANIMAL\n",
       "1                 BIRD\n",
       "2     PANDAS LIBRARY  \n",
       "dtype: object"
      ]
     },
     "execution_count": 64,
     "metadata": {},
     "output_type": "execute_result"
    }
   ],
   "source": [
    "s7.str.upper()"
   ]
  },
  {
   "cell_type": "markdown",
   "metadata": {
    "colab_type": "text",
    "id": "wgYhsRWPKdoe"
   },
   "source": [
    "## <center>🏆 Challenge\n",
    "\n",
    "Convert the strings in s8 to upper case."
   ]
  },
  {
   "cell_type": "code",
   "execution_count": 65,
   "metadata": {
    "colab": {},
    "colab_type": "code",
    "id": "37--BEZoKdof"
   },
   "outputs": [
    {
     "data": {
      "text/plain": [
       "0                     CAT\n",
       "1                     DOG\n",
       "2     PYTHON PROGRAMMING \n",
       "dtype: object"
      ]
     },
     "execution_count": 65,
     "metadata": {},
     "output_type": "execute_result"
    }
   ],
   "source": [
    "s8.str.upper()"
   ]
  },
  {
   "cell_type": "markdown",
   "metadata": {
    "colab_type": "text",
    "id": "puSkl35fKdoh"
   },
   "source": [
    "### Swap Capitalization"
   ]
  },
  {
   "cell_type": "code",
   "execution_count": 67,
   "metadata": {
    "colab": {},
    "colab_type": "code",
    "id": "kyd4YBoRKdoi"
   },
   "outputs": [
    {
     "data": {
      "text/plain": [
       "0               ANIMAL\n",
       "1                 BIRD\n",
       "2     pANDAS lIBRARY  \n",
       "dtype: object"
      ]
     },
     "execution_count": 67,
     "metadata": {},
     "output_type": "execute_result"
    }
   ],
   "source": [
    "s7.str.swapcase()"
   ]
  },
  {
   "cell_type": "markdown",
   "metadata": {
    "colab_type": "text",
    "id": "DDhJZURPKdok"
   },
   "source": [
    "## <center>🏆 Challenge\n",
    "\n",
    "Swap the capitalization of the strings in s8."
   ]
  },
  {
   "cell_type": "code",
   "execution_count": null,
   "metadata": {
    "colab": {},
    "colab_type": "code",
    "id": "n9_siA8rKdol"
   },
   "outputs": [],
   "source": [
    "s8.str.swapcase()"
   ]
  },
  {
   "cell_type": "markdown",
   "metadata": {
    "colab_type": "text",
    "id": "2UrRMXFvKdop"
   },
   "source": [
    "### Find Length of String"
   ]
  },
  {
   "cell_type": "code",
   "execution_count": 68,
   "metadata": {
    "colab": {},
    "colab_type": "code",
    "id": "WszLyCdvKdop"
   },
   "outputs": [
    {
     "data": {
      "text/plain": [
       "0     6\n",
       "1     4\n",
       "2    17\n",
       "dtype: int64"
      ]
     },
     "execution_count": 68,
     "metadata": {},
     "output_type": "execute_result"
    }
   ],
   "source": [
    "s7.str.len()"
   ]
  },
  {
   "cell_type": "markdown",
   "metadata": {
    "colab_type": "text",
    "id": "u1TkmYy9Kdot"
   },
   "source": [
    "## <center>🏆 Challenge\n",
    "\n",
    "Find the length of the strings in s8."
   ]
  },
  {
   "cell_type": "code",
   "execution_count": 69,
   "metadata": {
    "colab": {},
    "colab_type": "code",
    "id": "ko-Xm2FNKdot"
   },
   "outputs": [
    {
     "data": {
      "text/plain": [
       "0     3\n",
       "1     3\n",
       "2    20\n",
       "dtype: int64"
      ]
     },
     "execution_count": 69,
     "metadata": {},
     "output_type": "execute_result"
    }
   ],
   "source": [
    "s8.str.len()"
   ]
  },
  {
   "cell_type": "markdown",
   "metadata": {
    "colab_type": "text",
    "id": "gerhV7EdKdow"
   },
   "source": [
    "-------------"
   ]
  },
  {
   "cell_type": "markdown",
   "metadata": {
    "colab_type": "text",
    "id": "VwSh2vTUKdow"
   },
   "source": [
    "### Split String"
   ]
  },
  {
   "cell_type": "code",
   "execution_count": 70,
   "metadata": {
    "colab": {},
    "colab_type": "code",
    "id": "1jm-W4v5Kdox"
   },
   "outputs": [
    {
     "data": {
      "text/plain": [
       "0              animal\n",
       "1                bird\n",
       "2     Pandas Library \n",
       "dtype: object"
      ]
     },
     "execution_count": 70,
     "metadata": {},
     "output_type": "execute_result"
    }
   ],
   "source": [
    "s7 = np.array(['animal', 'bird', ' Pandas Library '])\n",
    "s7 = pd.Series(s7)\n",
    "s7"
   ]
  },
  {
   "cell_type": "markdown",
   "metadata": {
    "colab_type": "text",
    "id": "Jte4lCpMKdoy"
   },
   "source": [
    "## <center>🏆 Challenge\n",
    "\n",
    "Find the length of the strings in s8."
   ]
  },
  {
   "cell_type": "code",
   "execution_count": 71,
   "metadata": {
    "colab": {},
    "colab_type": "code",
    "id": "hf53ABmTKdoy"
   },
   "outputs": [
    {
     "data": {
      "text/plain": [
       "0                      cat\n",
       "1                      dog\n",
       "2     Python Programming  \n",
       "dtype: object"
      ]
     },
     "execution_count": 71,
     "metadata": {},
     "output_type": "execute_result"
    }
   ],
   "source": [
    "#first run this cell to create the series s8\n",
    "s8 = np.array(['cat','dog',' Python Programming  '] )\n",
    "s8= pd.Series(s8)\n",
    "s8"
   ]
  },
  {
   "cell_type": "code",
   "execution_count": 72,
   "metadata": {
    "colab": {},
    "colab_type": "code",
    "id": "8XohGUPUKdo0"
   },
   "outputs": [
    {
     "data": {
      "text/plain": [
       "0                    [cat]\n",
       "1                    [dog]\n",
       "2    [Python, Programming]\n",
       "dtype: object"
      ]
     },
     "execution_count": 72,
     "metadata": {},
     "output_type": "execute_result"
    }
   ],
   "source": [
    "s8.str.split()"
   ]
  },
  {
   "cell_type": "markdown",
   "metadata": {
    "colab_type": "text",
    "id": "uWIEeHQRKdo1"
   },
   "source": [
    "### Detect Unique Values"
   ]
  },
  {
   "cell_type": "code",
   "execution_count": 73,
   "metadata": {
    "colab": {},
    "colab_type": "code",
    "id": "Q84Ypw9SKdo1"
   },
   "outputs": [
    {
     "data": {
      "text/plain": [
       "array(['animal', 'bird', ' Pandas Library '], dtype=object)"
      ]
     },
     "execution_count": 73,
     "metadata": {},
     "output_type": "execute_result"
    }
   ],
   "source": [
    "s7.unique()"
   ]
  },
  {
   "cell_type": "markdown",
   "metadata": {
    "colab_type": "text",
    "id": "NjmgQuqYKdo3"
   },
   "source": [
    "## <center>🏆 Challenge\n",
    "\n",
    "Detect unique values in s8."
   ]
  },
  {
   "cell_type": "code",
   "execution_count": 74,
   "metadata": {
    "colab": {},
    "colab_type": "code",
    "id": "_YMFeHshKdo4"
   },
   "outputs": [
    {
     "data": {
      "text/plain": [
       "array(['cat', 'dog', ' Python Programming  '], dtype=object)"
      ]
     },
     "execution_count": 74,
     "metadata": {},
     "output_type": "execute_result"
    }
   ],
   "source": [
    "s8.unique()"
   ]
  },
  {
   "cell_type": "markdown",
   "metadata": {
    "colab_type": "text",
    "id": "jcj97YkjKdo5"
   },
   "source": [
    "### Repeat String"
   ]
  },
  {
   "cell_type": "markdown",
   "metadata": {
    "colab_type": "text",
    "id": "Ez78XAVnKdo5"
   },
   "source": [
    "We will work with the series s7 for this section."
   ]
  },
  {
   "cell_type": "code",
   "execution_count": null,
   "metadata": {
    "colab": {},
    "colab_type": "code",
    "id": "3xyw_CgyKdo6"
   },
   "outputs": [],
   "source": [
    "#first run this cell to create series s7\n",
    "s7 = np.array(['animal','bird',' Pandas Library  '] )\n",
    "s7= pd.Series(s7)\n",
    "s7"
   ]
  },
  {
   "cell_type": "code",
   "execution_count": 75,
   "metadata": {
    "colab": {},
    "colab_type": "code",
    "id": "1TSLCYyJKdo-"
   },
   "outputs": [
    {
     "data": {
      "text/plain": [
       "0                        animalanimal\n",
       "1                        birdbirdbird\n",
       "2     Pandas Library  Pandas Library \n",
       "dtype: object"
      ]
     },
     "execution_count": 75,
     "metadata": {},
     "output_type": "execute_result"
    }
   ],
   "source": [
    "repeat_list = [2, 3, 2]\n",
    "s7.str.repeat(repeat_list)"
   ]
  },
  {
   "cell_type": "markdown",
   "metadata": {
    "colab_type": "text",
    "id": "pZZLkc1GKdpA"
   },
   "source": [
    "## <center>🏆 Challenge\n",
    "\n",
    "Repeat the values in s8 in the order [1,2,3]"
   ]
  },
  {
   "cell_type": "code",
   "execution_count": null,
   "metadata": {
    "colab": {},
    "colab_type": "code",
    "id": "esXF9hAdKdpB"
   },
   "outputs": [],
   "source": [
    "## <center>🏆 Challenge\n",
    "\n",
    "Repeat the values in s8 in the order [1,2,3]"
   ]
  },
  {
   "cell_type": "code",
   "execution_count": 76,
   "metadata": {
    "colab": {},
    "colab_type": "code",
    "id": "f_YvQJsEKdpO"
   },
   "outputs": [
    {
     "data": {
      "text/plain": [
       "0                     cat\n",
       "1                     dog\n",
       "2     Python Programming \n",
       "dtype: object"
      ]
     },
     "execution_count": 76,
     "metadata": {},
     "output_type": "execute_result"
    }
   ],
   "source": [
    "s8 = np.array(['cat', 'dog', ' Python Programming '])\n",
    "s8 = pd.Series(s8)\n",
    "s8"
   ]
  },
  {
   "cell_type": "code",
   "execution_count": null,
   "metadata": {},
   "outputs": [],
   "source": []
  }
 ],
 "metadata": {
  "colab": {
   "name": "Workbook - Pandas Python Library for Beginners in Data Science.ipynb",
   "provenance": []
  },
  "kernelspec": {
   "display_name": "Python 3",
   "language": "python",
   "name": "python3"
  },
  "language_info": {
   "codemirror_mode": {
    "name": "ipython",
    "version": 3
   },
   "file_extension": ".py",
   "mimetype": "text/x-python",
   "name": "python",
   "nbconvert_exporter": "python",
   "pygments_lexer": "ipython3",
   "version": "3.6.9"
  }
 },
 "nbformat": 4,
 "nbformat_minor": 4
}
